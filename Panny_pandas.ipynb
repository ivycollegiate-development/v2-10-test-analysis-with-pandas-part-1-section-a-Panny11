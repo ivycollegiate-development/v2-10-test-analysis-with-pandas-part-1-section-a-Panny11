{
 "cells": [
  {
   "cell_type": "code",
   "execution_count": 2,
   "metadata": {},
   "outputs": [
    {
     "name": "stdout",
     "output_type": "stream",
     "text": [
      "First 5 rows:\n",
      "   Primary Key A # Pri. Ans.  # Correct % Correct  Discrim. Factor  \\\n",
      "0              1           B        3.0     23.1%           -0.000   \n",
      "1              2           C        5.0     38.5%            0.237   \n",
      "2              3           B        1.0      7.7%           -0.173   \n",
      "3              4           B        4.0     30.8%            0.425   \n",
      "4              5           A       11.0     84.6%            0.352   \n",
      "\n",
      "                 Responses  \n",
      "0         A:69% B:23% C:8%  \n",
      "1        C:38% A:38% B:23%  \n",
      "2    C:62% A:23% B:8% D:8%  \n",
      "3  B:31% A:31% D:23% C:15%  \n",
      "4              A:85% B:15%  \n",
      "\n",
      "DataFrame information:\n",
      "<class 'pandas.core.frame.DataFrame'>\n",
      "RangeIndex: 60 entries, 0 to 59\n",
      "Data columns (total 6 columns):\n",
      " #   Column           Non-Null Count  Dtype  \n",
      "---  ------           --------------  -----  \n",
      " 0   Primary Key A    60 non-null     int64  \n",
      " 1   # Pri. Ans.      60 non-null     object \n",
      " 2   # Correct        60 non-null     float64\n",
      " 3   % Correct        60 non-null     object \n",
      " 4   Discrim. Factor  59 non-null     float64\n",
      " 5   Responses        60 non-null     object \n",
      "dtypes: float64(2), int64(1), object(3)\n",
      "memory usage: 2.9+ KB\n",
      "None\n",
      "\n",
      "Summary statistics:\n",
      "       Primary Key A  # Correct  Discrim. Factor\n",
      "count      60.000000  60.000000        59.000000\n",
      "mean       30.500000   5.416667         0.258271\n",
      "std        17.464249   3.470416         0.289856\n",
      "min         1.000000   0.000000        -0.416000\n",
      "25%        15.750000   3.000000         0.065000\n",
      "50%        30.500000   5.000000         0.255000\n",
      "75%        45.250000   8.250000         0.472500\n",
      "max        60.000000  12.000000         0.712000\n"
     ]
    }
   ],
   "source": [
    "# pandas is a data manipulation library - we import it as pd by convention\n",
    "import pandas as pd\n",
    "# matplotlib is for creating visualizations - we import pyplot as plt by convention\n",
    "import matplotlib.pyplot as plt\n",
    "# read_csv() is a pandas function that loads data from a CSV file into a DataFrame\n",
    "df = pd.read_csv('Pandas_Lesson_Grades.csv')\n",
    "\n",
    "# Display first 5 rows\n",
    "print(\"First 5 rows:\")\n",
    "print(df.head())\n",
    "# Display basic information about the DataFrame\n",
    "print(\"\\nDataFrame information:\")\n",
    "print(df.info())\n",
    "# Display summary statistics\n",
    "print(\"\\nSummary statistics:\")\n",
    "print(df.describe())"
   ]
  },
  {
   "cell_type": "code",
   "execution_count": 3,
   "metadata": {},
   "outputs": [
    {
     "name": "stdout",
     "output_type": "stream",
     "text": [
      "Primary answers column:\n",
      "0    B\n",
      "1    C\n",
      "2    B\n",
      "3    B\n",
      "4    A\n",
      "Name: # Pri. Ans., dtype: object\n",
      "\n",
      "Selected columns:\n",
      "   Primary Key A  # Correct % Correct\n",
      "0              1        3.0     23.1%\n",
      "1              2        5.0     38.5%\n",
      "2              3        1.0      7.7%\n",
      "3              4        4.0     30.8%\n",
      "4              5       11.0     84.6%\n",
      "\n",
      "Statistics for # Correct:\n",
      "count    60.000000\n",
      "mean      5.416667\n",
      "std       3.470416\n",
      "min       0.000000\n",
      "25%       3.000000\n",
      "50%       5.000000\n",
      "75%       8.250000\n",
      "max      12.000000\n",
      "Name: # Correct, dtype: float64\n"
     ]
    }
   ],
   "source": [
    "# Select a single column using square brackets\n",
    "primary_answers = df['# Pri. Ans.']\n",
    "print(\"Primary answers column:\")\n",
    "print(primary_answers.head()) # What does this show?_____\n",
    "# Select multiple columns using a list of column names\n",
    "selected_columns = df[['Primary Key A','# Correct','% Correct']]\n",
    "print(\"\\nSelected columns:\")\n",
    "print(selected_columns.head()) # What does this show?_____\n",
    "\n",
    "# Basic statistics for numeric columns\n",
    "numeric_stats = df['# Correct'].describe()\n",
    "print(\"\\nStatistics for # Correct:\")\n",
    "print(numeric_stats) # List three statistics you see:_____, _____,_____"
   ]
  },
  {
   "cell_type": "code",
   "execution_count": 4,
   "metadata": {},
   "outputs": [
    {
     "name": "stdout",
     "output_type": "stream",
     "text": [
      "Average number correct: 5.416666666666667\n"
     ]
    },
    {
     "ename": "AttributeError",
     "evalue": "'Series' object has no attribute 'value_'",
     "output_type": "error",
     "traceback": [
      "\u001b[0;31m---------------------------------------------------------------------------\u001b[0m",
      "\u001b[0;31mAttributeError\u001b[0m                            Traceback (most recent call last)",
      "\u001b[0;32m/tmp/ipykernel_1845/2605573215.py\u001b[0m in \u001b[0;36m?\u001b[0;34m()\u001b[0m\n\u001b[1;32m      2\u001b[0m \u001b[0maverage_correct\u001b[0m \u001b[0;34m=\u001b[0m \u001b[0mdf\u001b[0m\u001b[0;34m[\u001b[0m\u001b[0;34m'# Correct'\u001b[0m\u001b[0;34m]\u001b[0m\u001b[0;34m.\u001b[0m\u001b[0mmean\u001b[0m\u001b[0;34m(\u001b[0m\u001b[0;34m)\u001b[0m\u001b[0;34m\u001b[0m\u001b[0;34m\u001b[0m\u001b[0m\n\u001b[1;32m      3\u001b[0m \u001b[0mprint\u001b[0m\u001b[0;34m(\u001b[0m\u001b[0;34mf\"\u001b[0m\u001b[0;34mAverage number correct: \u001b[0m\u001b[0;34m{\u001b[0m\u001b[0maverage_correct\u001b[0m\u001b[0;34m}\u001b[0m\u001b[0;34m\"\u001b[0m\u001b[0;34m)\u001b[0m\u001b[0;34m\u001b[0m\u001b[0;34m\u001b[0m\u001b[0m\n\u001b[1;32m      4\u001b[0m \u001b[0;34m\u001b[0m\u001b[0m\n\u001b[1;32m      5\u001b[0m \u001b[0;31m# value_counts() shows frequency of unique values\u001b[0m\u001b[0;34m\u001b[0m\u001b[0;34m\u001b[0m\u001b[0m\n\u001b[0;32m----> 6\u001b[0;31m \u001b[0manswer_distribution\u001b[0m \u001b[0;34m=\u001b[0m \u001b[0mdf\u001b[0m\u001b[0;34m[\u001b[0m\u001b[0;34m'# Pri. Ans.'\u001b[0m\u001b[0;34m]\u001b[0m\u001b[0;34m.\u001b[0m\u001b[0mvalue_\u001b[0m\u001b[0;34m\u001b[0m\u001b[0;34m\u001b[0m\u001b[0m\n\u001b[0m\u001b[1;32m      7\u001b[0m \u001b[0mprint\u001b[0m\u001b[0;34m(\u001b[0m\u001b[0;34m\"\\nDistribution of primary answers:\"\u001b[0m\u001b[0;34m)\u001b[0m\u001b[0;34m\u001b[0m\u001b[0;34m\u001b[0m\u001b[0m\n\u001b[1;32m      8\u001b[0m \u001b[0mprint\u001b[0m\u001b[0;34m(\u001b[0m\u001b[0manswer_distribution\u001b[0m\u001b[0;34m)\u001b[0m\u001b[0;34m\u001b[0m\u001b[0;34m\u001b[0m\u001b[0m\n\u001b[1;32m      9\u001b[0m \u001b[0;31m# Your turn - calculate these statistics:\u001b[0m\u001b[0;34m\u001b[0m\u001b[0;34m\u001b[0m\u001b[0m\n",
      "\u001b[0;32m~/.local/lib/python3.12/site-packages/pandas/core/generic.py\u001b[0m in \u001b[0;36m?\u001b[0;34m(self, name)\u001b[0m\n\u001b[1;32m   6295\u001b[0m             \u001b[0;32mand\u001b[0m \u001b[0mname\u001b[0m \u001b[0;32mnot\u001b[0m \u001b[0;32min\u001b[0m \u001b[0mself\u001b[0m\u001b[0;34m.\u001b[0m\u001b[0m_accessors\u001b[0m\u001b[0;34m\u001b[0m\u001b[0;34m\u001b[0m\u001b[0m\n\u001b[1;32m   6296\u001b[0m             \u001b[0;32mand\u001b[0m \u001b[0mself\u001b[0m\u001b[0;34m.\u001b[0m\u001b[0m_info_axis\u001b[0m\u001b[0;34m.\u001b[0m\u001b[0m_can_hold_identifiers_and_holds_name\u001b[0m\u001b[0;34m(\u001b[0m\u001b[0mname\u001b[0m\u001b[0;34m)\u001b[0m\u001b[0;34m\u001b[0m\u001b[0;34m\u001b[0m\u001b[0m\n\u001b[1;32m   6297\u001b[0m         \u001b[0;34m)\u001b[0m\u001b[0;34m:\u001b[0m\u001b[0;34m\u001b[0m\u001b[0;34m\u001b[0m\u001b[0m\n\u001b[1;32m   6298\u001b[0m             \u001b[0;32mreturn\u001b[0m \u001b[0mself\u001b[0m\u001b[0;34m[\u001b[0m\u001b[0mname\u001b[0m\u001b[0;34m]\u001b[0m\u001b[0;34m\u001b[0m\u001b[0;34m\u001b[0m\u001b[0m\n\u001b[0;32m-> 6299\u001b[0;31m         \u001b[0;32mreturn\u001b[0m \u001b[0mobject\u001b[0m\u001b[0;34m.\u001b[0m\u001b[0m__getattribute__\u001b[0m\u001b[0;34m(\u001b[0m\u001b[0mself\u001b[0m\u001b[0;34m,\u001b[0m \u001b[0mname\u001b[0m\u001b[0;34m)\u001b[0m\u001b[0;34m\u001b[0m\u001b[0;34m\u001b[0m\u001b[0m\n\u001b[0m",
      "\u001b[0;31mAttributeError\u001b[0m: 'Series' object has no attribute 'value_'"
     ]
    }
   ],
   "source": [
    "# mean() calculates the average of a numeric column\n",
    "average_correct = df['# Correct'].mean()\n",
    "print(f\"Average number correct: {average_correct}\")\n",
    "\n",
    "# value_counts() shows frequency of unique values\n",
    "answer_distribution = df['# Pri. Ans.'].value_\n",
    "print(\"\\nDistribution of primary answers:\")\n",
    "print(answer_distribution)\n",
    "# Your turn - calculate these statistics:\n",
    "median_correct = df['# Correct'].____() \n",
    "max_correct = df['# Correct'].____()\n",
    "min_correct = df['# Correct'].____()\n",
    " # Use the median function\n",
    "# Use the max function\n",
    "# Use the min function"
   ]
  }
 ],
 "metadata": {
  "kernelspec": {
   "display_name": "Python 3",
   "language": "python",
   "name": "python3"
  },
  "language_info": {
   "codemirror_mode": {
    "name": "ipython",
    "version": 3
   },
   "file_extension": ".py",
   "mimetype": "text/x-python",
   "name": "python",
   "nbconvert_exporter": "python",
   "pygments_lexer": "ipython3",
   "version": "3.12.1"
  }
 },
 "nbformat": 4,
 "nbformat_minor": 2
}
